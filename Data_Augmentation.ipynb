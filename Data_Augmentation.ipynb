{
 "cells": [
  {
   "cell_type": "code",
   "execution_count": 1,
   "id": "14a6aa87",
   "metadata": {},
   "outputs": [],
   "source": [
    "from __future__ import print_function\n",
    "\n",
    "import numpy as np\n",
    "import warnings\n",
    "\n",
    "from keras.models import Model\n",
    "from keras.layers import Flatten\n",
    "from keras.layers import Dense\n",
    "from keras.layers import Input\n",
    "from keras.layers import Conv2D\n",
    "from keras.layers import MaxPooling2D\n",
    "from keras.layers import GlobalMaxPooling2D\n",
    "from keras.layers import GlobalAveragePooling2D\n",
    "from keras.preprocessing import image\n",
    "from keras.utils import layer_utils\n",
    "from keras.utils.data_utils import get_file\n",
    "from keras import backend as K\n",
    "from keras.applications.imagenet_utils import decode_predictions\n",
    "from keras.applications.imagenet_utils import preprocess_input\n",
    "#from keras.applications.imagenet_utils import _obtain_input_shape # this will work for older versions of keras. 2.2.0 or before\n",
    "#from keras.engine.topology import get_source_inputs\n",
    "from PIL import Image, UnidentifiedImageError"
   ]
  },
  {
   "cell_type": "code",
   "execution_count": 2,
   "id": "d7dbeb3c",
   "metadata": {},
   "outputs": [
    {
     "name": "stdout",
     "output_type": "stream",
     "text": [
      "2.12.0\n"
     ]
    }
   ],
   "source": [
    "try :\n",
    "  %tensorflow_version 2.x\n",
    "except :\n",
    "  pass\n",
    "\n",
    "import tensorflow as tf\n",
    "print(tf.__version__)"
   ]
  },
  {
   "cell_type": "code",
   "execution_count": 3,
   "id": "fce0873a",
   "metadata": {},
   "outputs": [],
   "source": [
    "from tensorflow.keras.models import Sequential\n",
    "from tensorflow.keras.layers import Dense, Conv2D, Flatten, Dropout, MaxPooling2D\n",
    "from tensorflow.keras.preprocessing.image import ImageDataGenerator\n",
    "import os \n",
    "\n",
    "import matplotlib.pyplot as plt"
   ]
  },
  {
   "cell_type": "code",
   "execution_count": 4,
   "id": "bd3fdf97",
   "metadata": {},
   "outputs": [],
   "source": [
    "import numpy as np \n",
    "import pandas as pd \n"
   ]
  },
  {
   "cell_type": "code",
   "execution_count": 5,
   "id": "26ea10a0",
   "metadata": {},
   "outputs": [],
   "source": [
    "# Установите путь к папке с изображениями\n",
    "base_dir = '1math'\n",
    "\n",
    "# Создайте подкаталоги для обучения и проверки\n",
    "train_dir = os.path.join(base_dir, 'train')\n",
    "validation_dir = os.path.join(base_dir, 'validation')\n",
    "\n",
    "# Создайте список подкаталогов для каждой цифры\n",
    "digits = ['-','+','=','0','1','2','3','4','5','6','7','8','9','dev']\n",
    "train_digit_dirs = [os.path.join(train_dir, f'{digit}_jpg') for digit in digits]\n",
    "validation_digit_dirs = [os.path.join(validation_dir, f'{digit}_jpg') for digit in digits]\n",
    "\n",
    "# Создание отсутствующих каталогов, если они не существуют\n",
    "for directory in train_digit_dirs + validation_digit_dirs:\n",
    "    os.makedirs(directory, exist_ok=True)\n",
    "\n",
    "# Определите количество экземпляров, которое вы хотите создать для каждой цифры\n",
    "desired_instances = 10\n",
    "\n",
    "# Инициализируйте генераторы данных\n",
    "train_image_generator = ImageDataGenerator(\n",
    "    rescale=1./255,\n",
    "    rotation_range=40,\n",
    "    width_shift_range=0.2,\n",
    "    height_shift_range=0.2,\n",
    "    shear_range=0.2,\n",
    "    zoom_range=0.2,\n",
    "    horizontal_flip=True,\n",
    "    fill_mode='nearest'\n",
    ")\n",
    "\n"
   ]
  },
  {
   "cell_type": "code",
   "execution_count": 6,
   "id": "bb09771e",
   "metadata": {},
   "outputs": [],
   "source": [
    "# Получите список всех файлов в папках train\n",
    "train_files_list = []\n",
    "for train_digit_dir in train_digit_dirs:\n",
    "    train_files = [os.path.join(train_digit_dir, file) for file in os.listdir(train_digit_dir)]\n",
    "    train_files_list.append(train_files)\n",
    "\n"
   ]
  },
  {
   "cell_type": "markdown",
   "id": "46ac5e5d",
   "metadata": {},
   "source": [
    "from tensorflow.keras.preprocessing import image\n",
    "\n",
    "# Создайте цикл для генерации дополнительных экземпляров\n",
    "for digit_files in train_files_list:\n",
    "    digit_label = os.path.basename(os.path.dirname(digit_files[0]))  # Извлекаем метку цифры из пути\n",
    "    validation_digit_dir = os.path.join(validation_dir, digit_label + '_jpg')  # Папка для сохранения аугментированных экземпляров данной цифры\n",
    "    os.makedirs(validation_digit_dir, exist_ok=True)  # Создаем папку, если она не существует\n",
    "    for file_path in digit_files:\n",
    "        img = image.load_img(file_path, target_size=(150, 150))\n",
    "        x = image.img_to_array(img)\n",
    "        x = x.reshape((1,) + x.shape)\n",
    "        i = 0\n",
    "        for batch in train_image_generator.flow(x, batch_size=1, save_to_dir=validation_digit_dir, save_prefix='aug', save_format='jpg'):\n",
    "            i += 1\n",
    "            if i >= desired_instances:\n",
    "                break\n"
   ]
  },
  {
   "cell_type": "code",
   "execution_count": 7,
   "id": "7e864e2b",
   "metadata": {},
   "outputs": [],
   "source": [
    "from tensorflow.keras.preprocessing import image\n",
    "\n",
    "# Создайте цикл для генерации дополнительных экземпляров\n",
    "for digit_files in train_files_list:\n",
    "    digit_label = os.path.basename(os.path.dirname(digit_files[0]))  # Извлекаем метку цифры из пути\n",
    "    validation_digit_dir = os.path.join(validation_dir, digit_label)  # Папка для сохранения аугментированных экземпляров данной цифры\n",
    "    os.makedirs(validation_digit_dir, exist_ok=True)  # Создаем папку, если она не существует\n",
    "    \n",
    "    # Обработка каждого файла в цикле\n",
    "    for file_path in digit_files:\n",
    "        # Пропускаем файлы .DS_Store\n",
    "        if file_path.endswith('.DS_Store'):\n",
    "            continue\n",
    "        \n",
    "        try:\n",
    "            img = image.load_img(file_path, target_size=(150, 150))\n",
    "            x = image.img_to_array(img)\n",
    "            x = x.reshape((1,) + x.shape)\n",
    "            i = 0\n",
    "            for batch in train_image_generator.flow(x, batch_size=1, save_to_dir=validation_digit_dir, save_prefix='aug', save_format='jpg'):\n",
    "                i += 1\n",
    "                if i >= desired_instances:\n",
    "                    break\n",
    "        except (IOError, SyntaxError, UnidentifiedImageError) as e:\n",
    "            print(f\"Ошибка: {e}. Файл {file_path} не является изображением. Пропускаем.\")\n",
    "            continue\n"
   ]
  }
 ],
 "metadata": {
  "kernelspec": {
   "display_name": "Python 3.10 (tensorflow)",
   "language": "python",
   "name": "tensorflow"
  },
  "language_info": {
   "codemirror_mode": {
    "name": "ipython",
    "version": 3
   },
   "file_extension": ".py",
   "mimetype": "text/x-python",
   "name": "python",
   "nbconvert_exporter": "python",
   "pygments_lexer": "ipython3",
   "version": "3.10.10"
  }
 },
 "nbformat": 4,
 "nbformat_minor": 5
}
