{
 "cells": [
  {
   "cell_type": "code",
   "execution_count": 1,
   "id": "e7263f31",
   "metadata": {},
   "outputs": [],
   "source": [
    "import itertools\n",
    "import os\n",
    "\n",
    "import matplotlib.pylab as plt\n",
    "import numpy as np\n",
    "\n",
    "import tensorflow as tf\n",
    "from keras.models import Model\n",
    "from keras.layers import Flatten\n",
    "from keras.layers import Dense\n",
    "from keras.layers import Input\n",
    "from keras.layers import Conv2D\n",
    "from keras.layers import MaxPooling2D\n",
    "from keras.layers import GlobalMaxPooling2D\n",
    "from keras.layers import GlobalAveragePooling2D"
   ]
  },
  {
   "cell_type": "code",
   "execution_count": 2,
   "id": "26cfd57f",
   "metadata": {},
   "outputs": [],
   "source": [
    "from keras.preprocessing import image\n",
    "from keras import backend as K\n",
    "from keras.applications.imagenet_utils import decode_predictions\n",
    "from keras.applications.imagenet_utils import preprocess_input\n",
    "from tensorflow.keras.preprocessing import image\n",
    "from PIL import Image\n",
    "from matplotlib.pyplot import imread, imshow"
   ]
  },
  {
   "cell_type": "code",
   "execution_count": 3,
   "id": "49bf10d0",
   "metadata": {},
   "outputs": [
    {
     "name": "stdout",
     "output_type": "stream",
     "text": [
      "Metal device set to: Apple M1\n"
     ]
    }
   ],
   "source": [
    "from keras import backend as K\n",
    "K.set_image_data_format('channels_first')\n",
    "from keras.models import model_from_json\n",
    "from keras.applications.vgg16 import preprocess_input\n",
    "\n",
    "# Loading the model\n",
    "json_file = open('model_final.json', 'r')\n",
    "loaded_model_json = json_file.read()\n",
    "json_file.close()\n",
    "loaded_model = model_from_json(loaded_model_json)\n",
    "loaded_model.load_weights(\"model_final.h5\")\n",
    "\n",
    "\n"
   ]
  },
  {
   "cell_type": "code",
   "execution_count": 4,
   "id": "a634dc5e",
   "metadata": {},
   "outputs": [],
   "source": [
    "# Loading model weights from a file\n",
    "loaded_model.load_weights(\"model_final.h5\")\n",
    "\n",
    "# Loading a test image\n",
    "img_path = '/Users/alyona_dushkina/1.jpg'\n",
    "img = Image.open(img_path).convert('L')  # Convert to grayscale\n",
    "img = img.resize((28, 28))  # Resize image to 28x28"
   ]
  },
  {
   "cell_type": "code",
   "execution_count": 5,
   "id": "617587a3",
   "metadata": {},
   "outputs": [],
   "source": [
    "# Converting an image to a numpy array\n",
    "x = np.array(img)\n",
    "x = x.reshape(1, 1, 28, 28)  # Reshaping an Array to Fit Model Input\n"
   ]
  },
  {
   "cell_type": "code",
   "execution_count": 6,
   "id": "fcd88eca",
   "metadata": {},
   "outputs": [
    {
     "name": "stdout",
     "output_type": "stream",
     "text": [
      "1/1 [==============================] - 0s 116ms/step\n"
     ]
    },
    {
     "name": "stderr",
     "output_type": "stream",
     "text": [
      "2024-02-19 18:33:47.387941: W tensorflow/tsl/platform/profile_utils/cpu_utils.cc:128] Failed to get CPU frequency: 0 Hz\n"
     ]
    }
   ],
   "source": [
    "# Making a prediction using a loaded model\n",
    "predictions = loaded_model.predict(x)"
   ]
  },
  {
   "cell_type": "code",
   "execution_count": 7,
   "id": "1353563c",
   "metadata": {},
   "outputs": [],
   "source": [
    "# Determination of the class with the highest probability\n",
    "predicted_class_index = np.argmax(predictions)"
   ]
  },
  {
   "cell_type": "code",
   "execution_count": 8,
   "id": "85a302fb",
   "metadata": {},
   "outputs": [
    {
     "name": "stdout",
     "output_type": "stream",
     "text": [
      "1\n"
     ]
    }
   ],
   "source": [
    "# Definition of a classified result\n",
    "if predicted_class_index == 10:\n",
    "    print('-')\n",
    "elif predicted_class_index == 11:\n",
    "    print('+')\n",
    "elif predicted_class_index == 12:\n",
    "    print('/')\n",
    "elif predicted_class_index == 13:\n",
    "    print('=')\n",
    "else:\n",
    "    print(predicted_class_index)  # Class index output"
   ]
  },
  {
   "cell_type": "code",
   "execution_count": 9,
   "id": "62955278",
   "metadata": {},
   "outputs": [
    {
     "data": {
      "image/png": "[encoded data removed]",
      "text/plain": [
       "<Figure size 1000x1000 with 3 Axes>"
      ]
     },
     "metadata": {},
     "output_type": "display_data"
    }
   ],
   "source": [
    "import cv2\n",
    "import numpy as np\n",
    "import matplotlib.pyplot as plt\n",
    "\n",
    "img = cv2.imread('/Users/alyona_dushkina/Desktop/3+4_.jpg', cv2.IMREAD_GRAYSCALE)\n",
    "\n",
    "if img is not None and img.shape[0] > 0 and img.shape[1] > 0:\n",
    "    img = ~img\n",
    "    ret, thresh = cv2.threshold(img, 127, 255, cv2.THRESH_BINARY)\n",
    "    contours, _ = cv2.findContours(thresh, cv2.RETR_TREE, cv2.CHAIN_APPROX_SIMPLE)\n",
    "    cnt = sorted(contours, key=lambda ctr: cv2.boundingRect(ctr)[0])\n",
    "    w, h = int(28), int(28)\n",
    "    train_data = []\n",
    "\n",
    "    rects = []\n",
    "    for c in cnt:\n",
    "        x, y, w, h = cv2.boundingRect(c)\n",
    "        rect = [x, y, w, h]\n",
    "        rects.append(rect)\n",
    "\n",
    "    bool_rect = []\n",
    "    for r in rects:\n",
    "        l = []\n",
    "        for rec in rects:\n",
    "            flag = 0\n",
    "            if rec != r:\n",
    "                if r[0] < (rec[0] + rec[2] + 10) and rec[0] < (r[0] + r[2] + 10) and r[1] < (rec[1] + rec[3] + 10) and rec[1] < (r[1] + r[3] + 10):\n",
    "                    flag = 1\n",
    "                l.append(flag)\n",
    "            if rec == r:\n",
    "                l.append(0)\n",
    "        bool_rect.append(l)\n",
    "\n",
    "    dump_rect = []\n",
    "    for i in range(0, len(cnt)):\n",
    "        for j in range(0, len(cnt)):\n",
    "            if bool_rect[i][j] == 1:\n",
    "                area1 = rects[i][2] * rects[i][3]\n",
    "                area2 = rects[j][2] * rects[j][3]\n",
    "                if(area1 == min(area1, area2)):\n",
    "                    dump_rect.append(rects[i])\n",
    "\n",
    "    final_rect = [i for i in rects if i not in dump_rect]\n",
    "\n",
    "    for r in final_rect:\n",
    "        x, y, w, h = r[0], r[1], r[2], r[3]\n",
    "        roi = img[y:y+h, x:x+w]\n",
    "        resized_roi = cv2.resize(roi, (28, 28))\n",
    "        train_data.append(resized_roi)\n",
    "\n",
    "    # Displaying images from train_data\n",
    "    plt.figure(figsize=(10, 10))\n",
    "    for i in range(len(train_data)):\n",
    "        plt.subplot(1, len(train_data), i+1)\n",
    "        plt.imshow(train_data[i], cmap='gray')\n",
    "        plt.axis('off')\n",
    "    plt.show()\n"
   ]
  },
  {
   "cell_type": "code",
   "execution_count": 10,
   "id": "dddccb03",
   "metadata": {},
   "outputs": [
    {
     "name": "stdout",
     "output_type": "stream",
     "text": [
      "1/1 [==============================] - 0s 14ms/step\n",
      "1/1 [==============================] - 0s 14ms/step\n",
      "1/1 [==============================] - 0s 14ms/step\n",
      "3+4\n"
     ]
    }
   ],
   "source": [
    "s = ''\n",
    "for roi in train_data:\n",
    "    roi = np.expand_dims(roi, axis=0)  \n",
    "    roi = np.expand_dims(roi, axis=0)  \n",
    "    result = loaded_model.predict(roi)\n",
    "    predicted_class_index = np.argmax(result)\n",
    "    \n",
    "    if predicted_class_index == 10:\n",
    "        s += '-'\n",
    "    elif predicted_class_index == 11:\n",
    "        s += '+'\n",
    "    elif predicted_class_index == 12:\n",
    "        s += '/'\n",
    "    elif predicted_class_index == 13:\n",
    "        s += '='\n",
    "    else:\n",
    "        s += str(predicted_class_index)\n",
    "\n",
    "print(s)\n"
   ]
  },
  {
   "cell_type": "code",
   "execution_count": 11,
   "id": "8ed8a645",
   "metadata": {},
   "outputs": [
    {
     "data": {
      "text/plain": [
       "7"
      ]
     },
     "execution_count": 11,
     "metadata": {},
     "output_type": "execute_result"
    }
   ],
   "source": [
    "eval(s)"
   ]
  }
 ],
 "metadata": {
  "kernelspec": {
   "display_name": "Python 3.10 (tensorflow)",
   "language": "python",
   "name": "tensorflow"
  },
  "language_info": {
   "codemirror_mode": {
    "name": "ipython",
    "version": 3
   },
   "file_extension": ".py",
   "mimetype": "text/x-python",
   "name": "python",
   "nbconvert_exporter": "python",
   "pygments_lexer": "ipython3",
   "version": "3.10.10"
  }
 },
 "nbformat": 4,
 "nbformat_minor": 5
}
