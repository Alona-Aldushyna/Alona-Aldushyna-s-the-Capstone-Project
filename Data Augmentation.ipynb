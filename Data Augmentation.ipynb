{
 "cells": [
  {
   "cell_type": "code",
   "execution_count": 1,
   "id": "38326ec4",
   "metadata": {},
   "outputs": [],
   "source": [
    "from __future__ import print_function\n",
    "\n",
    "import numpy as np\n",
    "import warnings\n",
    "\n",
    "from keras.models import Model\n",
    "from keras.layers import Flatten\n",
    "from keras.layers import Dense\n",
    "from keras.layers import Input\n",
    "from keras.layers import Conv2D\n",
    "from keras.layers import MaxPooling2D\n",
    "from keras.layers import GlobalMaxPooling2D\n",
    "from keras.layers import GlobalAveragePooling2D\n",
    "from keras.preprocessing import image\n",
    "from keras.utils import layer_utils\n",
    "from keras.utils.data_utils import get_file\n",
    "from keras import backend as K\n",
    "from keras.applications.imagenet_utils import decode_predictions\n",
    "from keras.applications.imagenet_utils import preprocess_input\n",
    "#from keras.applications.imagenet_utils import _obtain_input_shape # this will work for older versions of keras. 2.2.0 or before\n",
    "#from keras.engine.topology import get_source_inputs"
   ]
  },
  {
   "cell_type": "code",
   "execution_count": 2,
   "id": "fc7648b0",
   "metadata": {},
   "outputs": [
    {
     "name": "stdout",
     "output_type": "stream",
     "text": [
      "2.12.0\n"
     ]
    }
   ],
   "source": [
    "try :\n",
    "  %tensorflow_version 2.x\n",
    "except :\n",
    "  pass\n",
    "\n",
    "import tensorflow as tf\n",
    "print(tf.__version__)"
   ]
  },
  {
   "cell_type": "code",
   "execution_count": 3,
   "id": "0d342617",
   "metadata": {},
   "outputs": [],
   "source": [
    "from tensorflow.keras.models import Sequential\n",
    "from tensorflow.keras.layers import Dense, Conv2D, Flatten, Dropout, MaxPooling2D\n",
    "from tensorflow.keras.preprocessing.image import ImageDataGenerator\n",
    "import os \n",
    "\n",
    "import matplotlib.pyplot as plt"
   ]
  },
  {
   "cell_type": "markdown",
   "id": "8fc6b3d5",
   "metadata": {},
   "source": [
    "PATH = os.path.join(os.path.dirname(path_to_zip), 'cats_and_dogs_filtered')"
   ]
  },
  {
   "cell_type": "code",
   "execution_count": 5,
   "id": "5abfa389",
   "metadata": {},
   "outputs": [],
   "source": [
    "import numpy as np \n",
    "import pandas as pd \n",
    "\n"
   ]
  },
  {
   "cell_type": "code",
   "execution_count": 9,
   "id": "629db9d2",
   "metadata": {},
   "outputs": [],
   "source": [
    "import os\n",
    "from tensorflow.keras.preprocessing.image import ImageDataGenerator\n",
    "from tensorflow.keras.preprocessing import image\n",
    "import matplotlib.pyplot as plt\n",
    "\n",
    "# Установите путь к папке с изображениями\n",
    "base_dir = '3math'\n",
    "\n",
    "# Создайте подкаталоги для обучения и проверки\n",
    "train_dir = os.path.join(base_dir, 'train')\n",
    "validation_dir = os.path.join(base_dir, 'validation')\n",
    "\n",
    "# Создайте подкаталоги для каждой цифры\n",
    "train_2_dir = os.path.join(train_dir, '2_jpg')\n",
    "validation_2_dir = os.path.join(validation_dir, '2_jpg')\n",
    "\n",
    "\n"
   ]
  },
  {
   "cell_type": "code",
   "execution_count": 10,
   "id": "201ebc19",
   "metadata": {},
   "outputs": [],
   "source": [
    "# Создание отсутствующих каталогов, если они не существуют\n",
    "os.makedirs(train_2_dir, exist_ok=True)\n",
    "#os.makedirs(train_1_dir, exist_ok=True)\n",
    "os.makedirs(validation_2_dir, exist_ok=True)\n",
    "#os.makedirs(validation_1_dir, exist_ok=True)"
   ]
  },
  {
   "cell_type": "code",
   "execution_count": 11,
   "id": "092f7c46",
   "metadata": {},
   "outputs": [],
   "source": [
    "# Получите список файлов в каждой папке\n",
    "#train_0_files = [os.path.join(train_0_dir, file) for file in os.listdir(train_0_dir)]\n",
    "#train_1_files = [os.path.join(train_1_dir, file) for file in os.listdir(train_1_dir)]\n",
    "train_2_files = [os.path.join(train_2_dir, file) for file in os.listdir(train_2_dir)]\n",
    "\n"
   ]
  },
  {
   "cell_type": "code",
   "execution_count": 12,
   "id": "78bdd234",
   "metadata": {},
   "outputs": [],
   "source": [
    "# Определите количество экземпляров, которое вы хотите создать для каждой цифры\n",
    "desired_instances = 100\n",
    "\n",
    "# Инициализируйте генераторы данных\n",
    "train_image_generator = ImageDataGenerator(\n",
    "    rescale=1./255,\n",
    "    rotation_range=40,\n",
    "    width_shift_range=0.2,\n",
    "    height_shift_range=0.2,\n",
    "    shear_range=0.2,\n",
    "    zoom_range=0.2,\n",
    "    horizontal_flip=True,\n",
    "    fill_mode='nearest'\n",
    ")\n",
    "\n",
    "# Создайте цикл для генерации дополнительных экземпляров\n",
    "for file_path in train_2_files:\n",
    "    img = image.load_img(file_path, target_size=(150, 150))\n",
    "    x = image.img_to_array(img)\n",
    "    x = x.reshape((1,) + x.shape)\n",
    "    i = 0\n",
    "    for batch in train_image_generator.flow(x, batch_size=1, save_to_dir=train_2_dir, save_prefix='0_aug', save_format='jpeg'):\n",
    "        i += 1\n",
    "        if i >= desired_instances:\n",
    "            break"
   ]
  },
  {
   "cell_type": "markdown",
   "id": "a0effadc",
   "metadata": {},
   "source": [
    "# Определите количество экземпляров, которое вы хотите создать для каждой цифры\n",
    "desired_instances = 100\n",
    "\n",
    "# Инициализируйте генераторы данных\n",
    "train_image_generator = ImageDataGenerator(\n",
    "    rescale=1./255,\n",
    "    rotation_range=40,\n",
    "    width_shift_range=0.2,\n",
    "    height_shift_range=0.2,\n",
    "    shear_range=0.2,\n",
    "    zoom_range=0.2,\n",
    "    horizontal_flip=True,\n",
    "    fill_mode='nearest'\n",
    ")\n",
    "\n",
    "# Создайте цикл для генерации дополнительных экземпляров\n",
    "for file_path in train_0_files:\n",
    "    img = image.load_img(file_path, target_size=(150, 150))\n",
    "    x = image.img_to_array(img)\n",
    "    x = x.reshape((1,) + x.shape)\n",
    "    i = 0\n",
    "    for batch in train_image_generator.flow(x, batch_size=1, save_to_dir=train_0_dir, save_prefix='0_aug', save_format='jpeg'):\n",
    "        i += 1\n",
    "        if i >= desired_instances:\n",
    "            break\n",
    "\n",
    "for file_path in train_1_files:\n",
    "    img = image.load_img(file_path, target_size=(150, 150))\n",
    "    x = image.img_to_array(img)\n",
    "    x = x.reshape((1,) + x.shape)\n",
    "    i = 0\n",
    "    for batch in train_image_generator.flow(x, batch_size=1, save_to_dir=train_1_dir, save_prefix='1_aug', save_format='jpeg'):\n",
    "        i += 1\n",
    "        if i >= desired_instances:\n",
    "            break\n"
   ]
  },
  {
   "cell_type": "code",
   "execution_count": null,
   "id": "eb49f3b9",
   "metadata": {},
   "outputs": [],
   "source": []
  }
 ],
 "metadata": {
  "kernelspec": {
   "display_name": "Python 3.10 (tensorflow)",
   "language": "python",
   "name": "tensorflow"
  },
  "language_info": {
   "codemirror_mode": {
    "name": "ipython",
    "version": 3
   },
   "file_extension": ".py",
   "mimetype": "text/x-python",
   "name": "python",
   "nbconvert_exporter": "python",
   "pygments_lexer": "ipython3",
   "version": "3.10.10"
  }
 },
 "nbformat": 4,
 "nbformat_minor": 5
}
