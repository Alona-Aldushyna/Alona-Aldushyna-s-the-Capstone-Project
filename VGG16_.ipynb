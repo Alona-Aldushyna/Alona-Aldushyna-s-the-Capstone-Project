{
  "cells": [
    {
      "cell_type": "markdown",
      "metadata": {
        "id": "view-in-github",
        "colab_type": "text"
      },
      "source": [
        "<a href=\"https://colab.research.google.com/github/Alona-Aldushyna/Alona-Aldushyna-s-the-Capstone-Project/blob/main/VGG16_.ipynb\" target=\"_parent\"><img src=\"https://colab.research.google.com/assets/colab-badge.svg\" alt=\"Open In Colab\"/></a>"
      ]
    },
    {
      "cell_type": "code",
      "execution_count": null,
      "metadata": {
        "colab": {
          "base_uri": "https://localhost:8080/"
        },
        "id": "c3et71qISWkP",
        "outputId": "f5250243-375d-4df0-8b1d-9eb69f44d239"
      },
      "outputs": [
        {
          "output_type": "stream",
          "name": "stdout",
          "text": [
            "TF version: 2.15.0\n",
            "Hub version: 0.16.1\n",
            "GPU is available\n"
          ]
        }
      ],
      "source": [
        "import itertools\n",
        "import os\n",
        "\n",
        "import matplotlib.pylab as plt\n",
        "import numpy as np\n",
        "\n",
        "import tensorflow as tf\n",
        "import tensorflow_hub as hub\n",
        "\n",
        "print(\"TF version:\", tf.__version__)\n",
        "print(\"Hub version:\", hub.__version__)\n",
        "print(\"GPU is\", \"available\" if tf.config.list_physical_devices('GPU') else \"NOT AVAILABLE\")"
      ]
    },
    {
      "cell_type": "code",
      "execution_count": null,
      "metadata": {
        "id": "R7Dxx30umpVI"
      },
      "outputs": [],
      "source": [
        "from keras.models import Model\n",
        "from keras.layers import Flatten\n",
        "from keras.layers import Dense\n",
        "from keras.layers import Input\n",
        "from keras.layers import Conv2D\n",
        "from keras.layers import MaxPooling2D\n",
        "from keras.layers import GlobalMaxPooling2D\n",
        "from keras.layers import GlobalAveragePooling2D"
      ]
    },
    {
      "cell_type": "code",
      "execution_count": null,
      "metadata": {
        "id": "aHz5Dz8TmyY0"
      },
      "outputs": [],
      "source": [
        "from keras.preprocessing import image\n",
        "\n",
        "\n",
        "\n",
        "from keras import backend as K\n",
        "from keras.applications.imagenet_utils import decode_predictions\n",
        "from keras.applications.imagenet_utils import preprocess_input"
      ]
    },
    {
      "cell_type": "code",
      "execution_count": null,
      "metadata": {
        "id": "Wzvb5EjVmMOJ"
      },
      "outputs": [],
      "source": [
        "def VGGupdated(input_tensor=None,classes=14):\n",
        "\n",
        "    img_rows, img_cols = 300, 300   # by default size is 224,224\n",
        "    img_channels = 3\n",
        "\n",
        "    img_dim = (img_rows, img_cols, img_channels)\n",
        "\n",
        "    img_input = Input(shape=img_dim)\n",
        "\n",
        "    # Block 1\n",
        "    x = Conv2D(64, (3, 3), activation='relu', padding='same', name='block1_conv1')(img_input)\n",
        "    x = Conv2D(64, (3, 3), activation='relu', padding='same', name='block1_conv2')(x)\n",
        "    x = MaxPooling2D((2, 2), strides=(2, 2), name='block1_pool')(x)\n",
        "\n",
        "    # Block 2\n",
        "    x = Conv2D(128, (3, 3), activation='relu', padding='same', name='block2_conv1')(x)\n",
        "    x = Conv2D(128, (3, 3), activation='relu', padding='same', name='block2_conv2')(x)\n",
        "    x = MaxPooling2D((2, 2), strides=(2, 2), name='block2_pool')(x)\n",
        "\n",
        "    # Block 3\n",
        "    x = Conv2D(256, (3, 3), activation='relu', padding='same', name='block3_conv1')(x)\n",
        "    x = Conv2D(256, (3, 3), activation='relu', padding='same', name='block3_conv2')(x)\n",
        "    x = Conv2D(256, (3, 3), activation='relu', padding='same', name='block3_conv3')(x)\n",
        "    x = MaxPooling2D((2, 2), strides=(2, 2), name='block3_pool')(x)\n",
        "\n",
        "    # Block 4\n",
        "    x = Conv2D(512, (3, 3), activation='relu', padding='same', name='block4_conv1')(x)\n",
        "    x = Conv2D(512, (3, 3), activation='relu', padding='same', name='block4_conv2')(x)\n",
        "    x = Conv2D(512, (3, 3), activation='relu', padding='same', name='block4_conv3')(x)\n",
        "    x = MaxPooling2D((2, 2), strides=(2, 2), name='block4_pool')(x)\n",
        "\n",
        "    # Block 5\n",
        "    x = Conv2D(512, (3, 3), activation='relu', padding='same', name='block5_conv1')(x)\n",
        "    x = Conv2D(512, (3, 3), activation='relu', padding='same', name='block5_conv2')(x)\n",
        "    x = Conv2D(512, (3, 3), activation='relu', padding='same', name='block5_conv3')(x)\n",
        "    x = MaxPooling2D((2, 2), strides=(2, 2), name='block5_pool')(x)\n",
        "\n",
        "\n",
        "    # Classification block\n",
        "    x = Flatten(name='flatten')(x)\n",
        "    x = Dense(4096, activation='relu', name='fc1')(x)\n",
        "    x = Dense(4096, activation='relu', name='fc2')(x)\n",
        "    x = Dense(classes, activation='softmax', name='predictions')(x)\n",
        "\n",
        "\n",
        "    # Create model.\n",
        "\n",
        "\n",
        "    model = Model(inputs = img_input, outputs = x, name='VGGdemo')\n",
        "\n",
        "\n",
        "    return model"
      ]
    },
    {
      "cell_type": "code",
      "execution_count": null,
      "metadata": {
        "id": "er4Yl1eRmRJy"
      },
      "outputs": [],
      "source": [
        "model = VGGupdated(classes = 14) #"
      ]
    },
    {
      "cell_type": "code",
      "execution_count": null,
      "metadata": {
        "id": "S88AWLpWIHCG"
      },
      "outputs": [],
      "source": [
        "from keras.optimizers import Adam\n",
        "model.compile(optimizer=Adam(learning_rate=0.00001), loss='categorical_crossentropy', metrics=['accuracy'])\n"
      ]
    },
    {
      "cell_type": "code",
      "execution_count": null,
      "metadata": {
        "id": "TekggFNsmU-r"
      },
      "outputs": [],
      "source": [
        "#model.compile(optimizer='adam', loss='categorical_crossentropy', metrics=['accuracy'])"
      ]
    },
    {
      "cell_type": "code",
      "execution_count": null,
      "metadata": {
        "colab": {
          "base_uri": "https://localhost:8080/"
        },
        "id": "JDao-CHOoa87",
        "outputId": "72817f6d-e336-4152-88cb-989a10d831e0"
      },
      "outputs": [
        {
          "output_type": "stream",
          "name": "stdout",
          "text": [
            "['8_jpg', '9_jpg', '4_jpg', '+_jpg', '-_jpg', '6_jpg', '=_jpg', '7_jpg', 'dev_jpg', '5_jpg', '1_jpg', '2_jpg', '3_jpg', '0_jpg']\n",
            "Types of math formulas found:  14\n"
          ]
        }
      ],
      "source": [
        "import numpy as np\n",
        "import pandas as pd\n",
        "import matplotlib.pyplot as plt\n",
        "import os\n",
        "\n",
        "dataset_path = os.listdir('/content/drive/MyDrive/validation')\n",
        "\n",
        "math_formulas_types = os.listdir('/content/drive/MyDrive/validation')\n",
        "print (math_formulas_types)  #what kinds of rooms are in this dataset\n",
        "\n",
        "print(\"Types of math formulas found: \", len(dataset_path))"
      ]
    },
    {
      "cell_type": "code",
      "execution_count": null,
      "metadata": {
        "id": "EgfLADI91dMk"
      },
      "outputs": [],
      "source": []
    },
    {
      "cell_type": "code",
      "execution_count": null,
      "metadata": {
        "id": "2cc_K17HsNAQ"
      },
      "outputs": [],
      "source": []
    },
    {
      "cell_type": "code",
      "execution_count": null,
      "metadata": {
        "id": "7GSaJrxosDQY",
        "colab": {
          "base_uri": "https://localhost:8080/"
        },
        "outputId": "0760b3c8-1e40-4e19-ac4a-69d97684f2f8"
      },
      "outputs": [
        {
          "output_type": "execute_result",
          "data": {
            "text/plain": [
              "0"
            ]
          },
          "metadata": {},
          "execution_count": 9
        }
      ],
      "source": [
        "# Задайте путь к директории\n",
        "directory_path = '/content/drive/MyDrive/validation'\n",
        "\n",
        "# Используйте команду shell для удаления файлов .DS_Store\n",
        "os.system(f'find {directory_path} -name \".DS_Store\" -delete')"
      ]
    },
    {
      "cell_type": "code",
      "execution_count": null,
      "metadata": {
        "colab": {
          "base_uri": "https://localhost:8080/"
        },
        "id": "B7_TsYtLsTVv",
        "outputId": "90f7884d-ddde-4a54-f601-e26e95ad1e7e"
      },
      "outputs": [
        {
          "output_type": "stream",
          "name": "stderr",
          "text": [
            "IOPub data rate exceeded.\n",
            "The notebook server will temporarily stop sending output\n",
            "to the client in order to avoid crashing it.\n",
            "To change this limit, set the config variable\n",
            "`--NotebookApp.iopub_data_rate_limit`.\n",
            "\n",
            "Current values:\n",
            "NotebookApp.iopub_data_rate_limit=1000000.0 (bytes/sec)\n",
            "NotebookApp.rate_limit_window=3.0 (secs)\n",
            "\n"
          ]
        }
      ],
      "source": [
        "formulas = []\n",
        "\n",
        "for item in math_formulas_types:\n",
        " # Get all the file names\n",
        " all_formulas = os.listdir('/content/drive/MyDrive/validation' + '/' +item)\n",
        " #print(all_shoes)\n",
        "\n",
        " # Add them to the list\n",
        " for formula in  all_formulas:\n",
        "    formulas.append((item, str('/content/drive/MyDrive/validation' + '/' +item) + '/' + formula))\n",
        "    print(formulas)"
      ]
    },
    {
      "cell_type": "code",
      "execution_count": null,
      "metadata": {
        "colab": {
          "base_uri": "https://localhost:8080/"
        },
        "id": "SWuhxO0csTZJ",
        "outputId": "06b3f880-5489-4d1a-a82b-8f278a7d2200"
      },
      "outputs": [
        {
          "output_type": "stream",
          "name": "stdout",
          "text": [
            "  formulas type                                              image\n",
            "0         8_jpg  /content/drive/MyDrive/validation/8_jpg/aug_0_...\n",
            "1         8_jpg  /content/drive/MyDrive/validation/8_jpg/aug_0_...\n",
            "2         8_jpg  /content/drive/MyDrive/validation/8_jpg/aug_0_...\n",
            "3         8_jpg  /content/drive/MyDrive/validation/8_jpg/aug_0_...\n",
            "4         8_jpg  /content/drive/MyDrive/validation/8_jpg/aug_0_...\n"
          ]
        }
      ],
      "source": [
        "# Build a dataframe\n",
        "formulas_df = pd.DataFrame(data=formulas, columns=['formulas type', 'image'])\n",
        "print(formulas_df.head())\n",
        "#print(rooms_df.tail())"
      ]
    },
    {
      "cell_type": "code",
      "execution_count": null,
      "metadata": {
        "colab": {
          "base_uri": "https://localhost:8080/"
        },
        "id": "bPbu8kvvsTb_",
        "outputId": "dc7fd132-d607-4555-9b47-b8f9f1088b6d"
      },
      "outputs": [
        {
          "output_type": "stream",
          "name": "stdout",
          "text": [
            "Total number of formulas in the dataset:  9156\n",
            "formulas in each category: \n",
            "8_jpg      654\n",
            "9_jpg      654\n",
            "4_jpg      654\n",
            "+_jpg      654\n",
            "-_jpg      654\n",
            "6_jpg      654\n",
            "=_jpg      654\n",
            "7_jpg      654\n",
            "dev_jpg    654\n",
            "5_jpg      654\n",
            "1_jpg      654\n",
            "2_jpg      654\n",
            "3_jpg      654\n",
            "0_jpg      654\n",
            "Name: formulas type, dtype: int64\n"
          ]
        }
      ],
      "source": [
        "# Let's check how many samples for each category are present\n",
        "print(\"Total number of formulas in the dataset: \", len(formulas_df))\n",
        "\n",
        "formulas_count = formulas_df['formulas type'].value_counts()\n",
        "\n",
        "print(\"formulas in each category: \")\n",
        "print(formulas_count)"
      ]
    },
    {
      "cell_type": "markdown",
      "metadata": {
        "id": "bBP08A-epSf2"
      },
      "source": [
        "# Новый раздел"
      ]
    },
    {
      "cell_type": "code",
      "execution_count": null,
      "metadata": {
        "id": "LMkPppX4wJZb"
      },
      "outputs": [],
      "source": [
        "import cv2\n",
        "path = '/content/drive/MyDrive/validation/'\n",
        "\n",
        "\n",
        "im_size = 300\n",
        "\n",
        "images = []\n",
        "labels = []\n",
        "\n",
        "for i in math_formulas_types:\n",
        "    data_path = path + str(i)\n",
        "    filenames = [i for i in os.listdir(data_path) ]\n",
        "\n",
        "    for f in filenames:\n",
        "        img = cv2.imread(data_path + '/' + f)\n",
        "        img = cv2.resize(img, (im_size, im_size))\n",
        "        images.append(img)\n",
        "        labels.append(i)"
      ]
    },
    {
      "cell_type": "code",
      "execution_count": null,
      "metadata": {
        "colab": {
          "base_uri": "https://localhost:8080/"
        },
        "id": "Q9xAKyK7wJdA",
        "outputId": "adda4b57-211d-495c-c604-957e2ca20252"
      },
      "outputs": [
        {
          "output_type": "execute_result",
          "data": {
            "text/plain": [
              "(9156, 300, 300, 3)"
            ]
          },
          "metadata": {},
          "execution_count": 14
        }
      ],
      "source": [
        "images = np.array(images)\n",
        "\n",
        "images = images.astype('float32') / 255.0\n",
        "images.shape"
      ]
    },
    {
      "cell_type": "code",
      "execution_count": null,
      "metadata": {
        "colab": {
          "base_uri": "https://localhost:8080/"
        },
        "id": "gyL9o023wJhK",
        "outputId": "254e82f4-c589-4530-bef3-1df24af360ad"
      },
      "outputs": [
        {
          "output_type": "stream",
          "name": "stdout",
          "text": [
            "[[0. 0. 0. ... 0. 0. 0.]\n",
            " [0. 0. 0. ... 0. 0. 0.]\n",
            " [0. 0. 0. ... 0. 0. 0.]\n",
            " ...\n",
            " [0. 0. 1. ... 0. 0. 0.]\n",
            " [0. 0. 1. ... 0. 0. 0.]\n",
            " [0. 0. 1. ... 0. 0. 0.]]\n"
          ]
        },
        {
          "output_type": "stream",
          "name": "stderr",
          "text": [
            "/usr/local/lib/python3.10/dist-packages/sklearn/preprocessing/_encoders.py:868: FutureWarning: `sparse` was renamed to `sparse_output` in version 1.2 and will be removed in 1.4. `sparse_output` is ignored unless you leave `sparse` to its default value.\n",
            "  warnings.warn(\n"
          ]
        }
      ],
      "source": [
        "from sklearn.preprocessing import LabelEncoder, OneHotEncoder\n",
        "\n",
        "# Предположим, что y - это одномерный массив меток классов (3 класса)\n",
        "y = formulas_df['formulas type'].values\n",
        "\n",
        "# Используем LabelEncoder для преобразования строковых меток в числовой формат\n",
        "label_encoder = LabelEncoder()\n",
        "y_encoded = label_encoder.fit_transform(y)\n",
        "\n",
        "# Используем OneHotEncoder\n",
        "onehot_encoder = OneHotEncoder(sparse=False, categories='auto')\n",
        "Y_onehot = onehot_encoder.fit_transform(y_encoded.reshape(-1, 1))\n",
        "\n",
        "print(Y_onehot)\n"
      ]
    },
    {
      "cell_type": "code",
      "execution_count": null,
      "metadata": {
        "colab": {
          "base_uri": "https://localhost:8080/"
        },
        "id": "As4YDyQywf1X",
        "outputId": "1e5c689c-ecba-4649-ac05-5f8c736dde12"
      },
      "outputs": [
        {
          "output_type": "stream",
          "name": "stdout",
          "text": [
            "(8698, 300, 300, 3)\n",
            "(8698, 14)\n",
            "(458, 300, 300, 3)\n",
            "(458, 14)\n"
          ]
        }
      ],
      "source": [
        "from sklearn.utils import shuffle\n",
        "from sklearn.model_selection import train_test_split\n",
        "\n",
        "\n",
        "images, Y_onehot = shuffle(images, Y_onehot, random_state=1)\n",
        "\n",
        "train_x, test_x, train_y, test_y = train_test_split(images, Y_onehot, test_size=0.05, random_state=415)\n",
        "\n",
        "#inpect the shape of the training and testing.\n",
        "print(train_x.shape)\n",
        "print(train_y.shape)\n",
        "print(test_x.shape)\n",
        "print(test_y.shape)"
      ]
    },
    {
      "cell_type": "code",
      "source": [],
      "metadata": {
        "id": "t6l32C_lRNFH"
      },
      "execution_count": null,
      "outputs": []
    },
    {
      "cell_type": "code",
      "execution_count": null,
      "metadata": {
        "id": "PqZc8Pptwk-P",
        "colab": {
          "base_uri": "https://localhost:8080/"
        },
        "outputId": "c98fcb82-ca8d-4091-824a-14151ac212f4"
      },
      "outputs": [
        {
          "output_type": "stream",
          "name": "stdout",
          "text": [
            "Epoch 1/10\n",
            "435/435 [==============================] - 50s 82ms/step - loss: 2.1480 - accuracy: 0.2386\n",
            "Epoch 2/10\n",
            "435/435 [==============================] - 30s 70ms/step - loss: 1.0680 - accuracy: 0.6221\n",
            "Epoch 3/10\n",
            "435/435 [==============================] - 30s 70ms/step - loss: 0.6310 - accuracy: 0.7873\n",
            "Epoch 4/10\n",
            "435/435 [==============================] - 30s 70ms/step - loss: 0.3689 - accuracy: 0.8794\n",
            "Epoch 5/10\n",
            "435/435 [==============================] - 30s 70ms/step - loss: 0.2024 - accuracy: 0.9292\n",
            "Epoch 6/10\n",
            "435/435 [==============================] - 30s 70ms/step - loss: 0.1215 - accuracy: 0.9580\n",
            "Epoch 7/10\n",
            "435/435 [==============================] - 30s 70ms/step - loss: 0.0914 - accuracy: 0.9705\n",
            "Epoch 8/10\n",
            "435/435 [==============================] - 30s 70ms/step - loss: 0.0548 - accuracy: 0.9821\n",
            "Epoch 9/10\n",
            "435/435 [==============================] - 30s 70ms/step - loss: 0.0392 - accuracy: 0.9887\n",
            "Epoch 10/10\n",
            "435/435 [==============================] - 30s 70ms/step - loss: 0.0622 - accuracy: 0.9810\n"
          ]
        },
        {
          "output_type": "execute_result",
          "data": {
            "text/plain": [
              "<keras.src.callbacks.History at 0x7be5e8ebb4c0>"
            ]
          },
          "metadata": {},
          "execution_count": 17
        }
      ],
      "source": [
        "model.fit(train_x, train_y, epochs=10, batch_size=20)"
      ]
    },
    {
      "cell_type": "code",
      "source": [
        "preds = model.evaluate(test_x, test_y)\n",
        "print (\"Loss = \" + str(preds[0]))\n",
        "print (\"Test Accuracy = \" + str(preds[1]))"
      ],
      "metadata": {
        "colab": {
          "base_uri": "https://localhost:8080/"
        },
        "id": "36E45LAmOQcv",
        "outputId": "678c3934-45ff-44bd-afe6-9e50cea0bfff"
      },
      "execution_count": null,
      "outputs": [
        {
          "output_type": "stream",
          "name": "stdout",
          "text": [
            "15/15 [==============================] - 4s 94ms/step - loss: 0.2366 - accuracy: 0.9170\n",
            "Loss = 0.23661784827709198\n",
            "Test Accuracy = 0.9170305728912354\n"
          ]
        }
      ]
    },
    {
      "cell_type": "code",
      "source": [
        "model.save(\"my_model.keras\")"
      ],
      "metadata": {
        "id": "79AfAcAZ3QUX"
      },
      "execution_count": null,
      "outputs": []
    },
    {
      "cell_type": "code",
      "source": [
        "from google.colab import files\n",
        "\n",
        "# Скачивание файла\n",
        "files.download('/content/my_model.keras')"
      ],
      "metadata": {
        "colab": {
          "base_uri": "https://localhost:8080/",
          "height": 34
        },
        "id": "TB3fPov6A1hR",
        "outputId": "d4541fed-9ec5-4a7e-e884-9eb6e2d0c1aa"
      },
      "execution_count": null,
      "outputs": [
        {
          "output_type": "display_data",
          "data": {
            "text/plain": [
              "<IPython.core.display.Javascript object>"
            ],
            "application/javascript": [
              "\n",
              "    async function download(id, filename, size) {\n",
              "      if (!google.colab.kernel.accessAllowed) {\n",
              "        return;\n",
              "      }\n",
              "      const div = document.createElement('div');\n",
              "      const label = document.createElement('label');\n",
              "      label.textContent = `Downloading \"${filename}\": `;\n",
              "      div.appendChild(label);\n",
              "      const progress = document.createElement('progress');\n",
              "      progress.max = size;\n",
              "      div.appendChild(progress);\n",
              "      document.body.appendChild(div);\n",
              "\n",
              "      const buffers = [];\n",
              "      let downloaded = 0;\n",
              "\n",
              "      const channel = await google.colab.kernel.comms.open(id);\n",
              "      // Send a message to notify the kernel that we're ready.\n",
              "      channel.send({})\n",
              "\n",
              "      for await (const message of channel.messages) {\n",
              "        // Send a message to notify the kernel that we're ready.\n",
              "        channel.send({})\n",
              "        if (message.buffers) {\n",
              "          for (const buffer of message.buffers) {\n",
              "            buffers.push(buffer);\n",
              "            downloaded += buffer.byteLength;\n",
              "            progress.value = downloaded;\n",
              "          }\n",
              "        }\n",
              "      }\n",
              "      const blob = new Blob(buffers, {type: 'application/binary'});\n",
              "      const a = document.createElement('a');\n",
              "      a.href = window.URL.createObjectURL(blob);\n",
              "      a.download = filename;\n",
              "      div.appendChild(a);\n",
              "      a.click();\n",
              "      div.remove();\n",
              "    }\n",
              "  "
            ]
          },
          "metadata": {}
        },
        {
          "output_type": "display_data",
          "data": {
            "text/plain": [
              "<IPython.core.display.Javascript object>"
            ],
            "application/javascript": [
              "download(\"download_dca34043-187e-4661-820b-adcff0444597\", \"my_model.keras\", 2417227206)"
            ]
          },
          "metadata": {}
        }
      ]
    },
    {
      "cell_type": "code",
      "source": [
        "from tensorflow.keras.preprocessing import image\n",
        "from PIL import Image\n",
        "from matplotlib.pyplot import imread, imshow\n",
        "\n",
        "img_path = '/content/drive/MyDrive/test/2.jpg'\n",
        "\n",
        "img = Image.open(img_path)\n",
        "img = img.resize((300, 300))  # Если требуется изменить размер изображения\n",
        "x = image.img_to_array(img)\n",
        "x = np.expand_dims(x, axis=0)\n",
        "x = preprocess_input(x)\n",
        "\n",
        "print('Input image shape:', x.shape)\n",
        "\n",
        "my_image = imread(img_path)\n",
        "imshow(my_image)"
      ],
      "metadata": {
        "colab": {
          "base_uri": "https://localhost:8080/",
          "height": 471
        },
        "id": "3kyjdPbF8ZNO",
        "outputId": "b643ab93-a23c-4b0f-8176-eef99aed26d1"
      },
      "execution_count": null,
      "outputs": [
        {
          "output_type": "stream",
          "name": "stdout",
          "text": [
            "Input image shape: (1, 300, 300, 3)\n"
          ]
        },
        {
          "output_type": "execute_result",
          "data": {
            "text/plain": [
              "<matplotlib.image.AxesImage at 0x7be5dc1a1810>"
            ]
          },
          "metadata": {},
          "execution_count": 20
        },
        {
          "output_type": "display_data",
          "data": {
            "text/plain": [
              "<Figure size 640x480 with 1 Axes>"
            ],
            "image/png": "[encoded data removed]"
          },
          "metadata": {}
        }
      ]
    },
    {
      "cell_type": "code",
      "source": [
        "print(model.predict(x))\n"
      ],
      "metadata": {
        "colab": {
          "base_uri": "https://localhost:8080/"
        },
        "id": "3iUhQ0Io80Mq",
        "outputId": "b094c694-ce6f-4e81-caf0-24219ae45ea6"
      },
      "execution_count": null,
      "outputs": [
        {
          "output_type": "stream",
          "name": "stdout",
          "text": [
            "1/1 [==============================] - 1s 600ms/step\n",
            "[[0. 0. 0. 0. 0. 0. 0. 0. 0. 0. 1. 0. 0. 0.]]\n"
          ]
        }
      ]
    },
    {
      "cell_type": "code",
      "source": [
        "# Получить предсказанный вектор вероятностей для классов\n",
        "predicted_probabilities = model.predict(x)\n",
        "\n",
        "# Преобразовать предсказанный вектор вероятностей из формата One-Hot в числовой формат\n",
        "predicted_class_numeric = np.argmax(predicted_probabilities, axis=1)\n",
        "\n",
        "# Обратное преобразование числовых меток в строковый формат с использованием label_encoder\n",
        "predicted_class_str = label_encoder.inverse_transform(predicted_class_numeric)\n",
        "\n",
        "# Вывести предсказанный класс\n",
        "print(\"Predicted class:\", predicted_class_str[0])"
      ],
      "metadata": {
        "colab": {
          "base_uri": "https://localhost:8080/"
        },
        "id": "HgCxCv-s9A_a",
        "outputId": "1d228882-55ce-463d-9640-03c2f35dc29e"
      },
      "execution_count": null,
      "outputs": [
        {
          "output_type": "stream",
          "name": "stdout",
          "text": [
            "1/1 [==============================] - 0s 21ms/step\n",
            "Predicted class: 8_jpg\n"
          ]
        }
      ]
    }
  ],
  "metadata": {
    "accelerator": "GPU",
    "colab": {
      "gpuType": "A100",
      "machine_shape": "hm",
      "provenance": [],
      "mount_file_id": "1lFKyg5V-JICvQAY3ZxRspX3tWV7GqRQR",
      "authorship_tag": "ABX9TyO88P/WbURvItJjHy/h/nyy",
      "include_colab_link": true
    },
    "kernelspec": {
      "display_name": "Python 3",
      "name": "python3"
    },
    "language_info": {
      "name": "python"
    }
  },
  "nbformat": 4,
  "nbformat_minor": 0
}